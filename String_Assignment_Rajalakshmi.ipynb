{
 "cells": [
  {
   "cell_type": "code",
   "execution_count": 24,
   "metadata": {
    "ExecuteTime": {
     "end_time": "2021-05-29T16:50:39.672688Z",
     "start_time": "2021-05-29T16:50:39.456541Z"
    },
    "id": "OG2JlAXx3VoJ"
   },
   "outputs": [
    {
     "name": "stdout",
     "output_type": "stream",
     "text": [
      "The value of string variable is : String Assignment By Rajalakshmi ; \n",
      "It's type is : <class 'str'> ; \n",
      "It's ID is : 1723281984560\n"
     ]
    }
   ],
   "source": [
    "#                                   String Assignment by Rajalakshmi B\n",
    "#Declare a string and store it in a variable. \n",
    "#Check the type and print the id of the same.\n",
    "\n",
    "a = 'String Assignment By Rajalakshmi'\n",
    "print(\"The value of string variable is :\", a, \"; \\nIt's type is :\", type(a), \"; \\nIt's ID is :\", id(a))\n",
    "\n"
   ]
  },
  {
   "cell_type": "code",
   "execution_count": 5,
   "metadata": {
    "id": "wPxm3G8W3dqN"
   },
   "outputs": [
    {
     "name": "stdout",
     "output_type": "stream",
     "text": [
      "\n",
      "This is Python class -> is a valid string.\n",
      "\n",
      "This is Python class -> is a valid string.\n",
      "\n",
      "This is Python class -> is a valid string.\n",
      "\n",
      "This is Python class -> is a valid string.\n",
      "\n",
      "Learnbay provides 'Java', 'Python' classes -> is a valid string.\n",
      "\n",
      "This is Python's class -> is a valid string.\n",
      "\n",
      "Learnbay provides \"Java\", \"Python\" classes -> is a valid string.\n",
      "\n",
      "Learnbay provides \"Java\", \"Python\" classes -> is a valid string.\n",
      "\n",
      "Learnbay provides\n",
      "\"Java\", \"Python\" \n",
      "classes -> is a valid string.\n"
     ]
    }
   ],
   "source": [
    "#Which are valid/invalid strings\n",
    "# 1. 'This is Python class' valid/invalid\n",
    "# 2. \"This is Python class\" valid/invalid\n",
    "# 3. '''This is Python class''' valid/invalid\n",
    "# 4. \"\"\"This is Python class\"\"\"valid/invalid\n",
    "\n",
    "test_str1 = '\\nThis is Python class'\n",
    "print(test_str1, \"-> is a valid string.\") if type(test_str1) == str else print(test_str1,\"-> is not a valid string.\")\n",
    "\n",
    "test_str2 = \"\\nThis is Python class\"\n",
    "print(test_str2, \"-> is a valid string.\") if type(test_str2) == str else print(test_str2, \"-> is not a valid string.\")\n",
    "\n",
    "test_str3 = '''\\nThis is Python class'''\n",
    "print(test_str3, \"-> is a valid string.\") if type(test_str3) == str else print(test_str3, \"-> is not a valid string.\")\n",
    "\n",
    "test_str4 = \"\"\"\\nThis is Python class\"\"\"\n",
    "print(test_str4, \"-> is a valid string.\") if type(test_str4) == str else print(test_str4, \"-> is not a valid string.\")\n",
    "\n",
    "\n",
    "# 5. 'This is Python's class' valid/invalid\n",
    "# This string is not valid string as the main string is inside Single Quotation and the apostrophe in Python's \n",
    "# is taken as closing quotation. If the main string is inside \"\" then there won't be an error.\n",
    "\n",
    "#6. \"Learnbay provides \"Java\", \"Python\" classes\" valid/invalid\n",
    "# This string is not valid string as the main string is inside Double Quotation and the double quotation in Java & Python \n",
    "# is confused for the closing quotation. If the main string is inside '''''' then there won't be an error.\n",
    "\n",
    "# 7. \"Learnbay provides 'Java', 'Python' classes\" valid/invalid\n",
    "# 8. \"This is Python's class\" valid/invalid\n",
    "# 9. \"\"\"Learnbay provides \"Java\", \"Python\" classes\"\"\" valid/invalid\n",
    "# 10. '''Learnbay provides \"Java\", \"Python\" classes''' valid/invalid   \n",
    "# 11. '''Learnbay provides\n",
    "# \"Java\", \"Python\" \n",
    "# classes'''\n",
    "# valid/invalid\n",
    "\n",
    "test_str7 = \"\\nLearnbay provides 'Java', 'Python' classes\"\n",
    "print(test_str7, \"-> is a valid string.\") if type(test_str7) == str else print(test_str7, \"-> is not a valid string.\")\n",
    "\n",
    "test_str8 = \"\\nThis is Python's class\"\n",
    "print(test_str8, \"-> is a valid string.\") if type(test_str8) == str else print(test_str8, \"-> is not a valid string.\")\n",
    "\n",
    "test_str9 = \"\"\"\\nLearnbay provides \"Java\", \"Python\" classes\"\"\"\n",
    "print(test_str9, \"-> is a valid string.\") if type(test_str9) == str else print(test_str9, \"-> is not a valid string.\")\n",
    "\n",
    "test_str10 = '''\\nLearnbay provides \"Java\", \"Python\" classes'''\n",
    "print(test_str10, \"-> is a valid string.\") if type(test_str10) == str else print(test_str10,\n",
    "                                                                                 \"-> is not a valid string.\")\n",
    "test_str11 = '''\\nLearnbay provides\n",
    "\"Java\", \"Python\" \n",
    "classes'''\n",
    "print(test_str11, \"-> is a valid string.\") if type(test_str11) == str else print(test_str11,\n",
    "                                                                                 \"-> is not a valid string.\")\n",
    "\n",
    "# 12. 'This is\n",
    "# Python \n",
    "# class'\n",
    "# valid/invalid\n",
    "# This string is not valid string as the main string is in the form of paragraph. \n",
    "#If the main string is inside '''''' then there won't be an error."
   ]
  },
  {
   "cell_type": "code",
   "execution_count": 7,
   "metadata": {
    "id": "Drx8fhT23g7a"
   },
   "outputs": [
    {
     "name": "stdout",
     "output_type": "stream",
     "text": [
      "The length of my_str is 66\n",
      "Are IDs of my_str and my_str1 same? : True\n",
      "Type of my_str is: <class 'str'>\n"
     ]
    }
   ],
   "source": [
    "#Write the code to get the output mentioned below print statement\n",
    "my_str = \"Although that way may not be obvious at first unless you're Dutch.\"\n",
    "my_str1 = \"Although that way may not be obvious at first unless you're Dutch.\"\n",
    "\n",
    "print(\"The length of my_str is\", len(my_str)) \n",
    "#output:- The length of my_str is 66\n",
    "\n",
    "print(\"Are IDs of my_str and my_str1 same? :\", id(my_str) != id(my_str1))\n",
    "#output:- id of my_str and my_str1 is same? - True\n",
    "\n",
    "print(\"Type of my_str is:\", type(my_str))\n",
    "#output:- Type of my_str is: str"
   ]
  },
  {
   "cell_type": "code",
   "execution_count": 26,
   "metadata": {
    "ExecuteTime": {
     "end_time": "2021-05-29T16:54:43.400493Z",
     "start_time": "2021-05-29T16:54:43.257054Z"
    },
    "id": "403e-I3A3lCO"
   },
   "outputs": [
    {
     "name": "stdout",
     "output_type": "stream",
     "text": [
      "my_str is : Although 8 that way may not be obvious at first unless you're Dutch\n",
      "The first character in my_str is: A\n",
      "The first character in my_str is: h\n",
      "The character at index 65 in my_str is: c\n",
      "The last character in my_str is: h\n",
      "The last character in my_str is: h\n",
      "The character in my_str is: 8\n"
     ]
    }
   ],
   "source": [
    "#Indexing\n",
    "my_str = \"Although 8 that way may not be obvious at first unless you're Dutch\"\n",
    "#Write the code to get the output,instructions are mentioned below print statement. use indexing\n",
    "\n",
    "print(\"my_str is :\",my_str)\n",
    "print(\"The first character in my_str is:\",my_str[0])\n",
    "#output:- The first character in my_str is: A\n",
    "#Note:- Use positive indexing\n",
    "\n",
    "print(\"The first character in my_str is:\",my_str[len(my_str)-1])\n",
    "#output:- The first character in my_str is: h\n",
    "#Note:- Use len() function.\n",
    "\n",
    "print(\"The character at index 65 in my_str is:\", my_str[65])\n",
    "#output:- The character at index 10 in my_str is: c\n",
    "#Note:- Use positive indexing\n",
    "\n",
    "print(\"The last character in my_str is:\",my_str[-1])\n",
    "#output:- The last character in my_str is: h\n",
    "#Note:- Use negative indexing.\n",
    "\n",
    "print(\"The last character in my_str is:\",my_str[len(my_str)-1])\n",
    "#output:- The last character in my_str is: h\n",
    "#Note:- Use len() function.\n",
    "\n",
    "print(\"The character in my_str is:\",my_str[my_str.index('8')])\n",
    "#output:- The character in my_str is: 8\n",
    "#Note:- Use positive index"
   ]
  },
  {
   "cell_type": "code",
   "execution_count": 27,
   "metadata": {
    "ExecuteTime": {
     "end_time": "2021-05-29T17:52:15.330824Z",
     "start_time": "2021-05-29T17:52:14.879294Z"
    },
    "id": "NK_QdtsM3luu"
   },
   "outputs": [
    {
     "name": "stdout",
     "output_type": "stream",
     "text": [
      "You have sliced: Although that way may not be obvious at first unless you're Dutch.\n",
      "You have sliced: Although that way may not be obvious at first unless you're Dutch.\n",
      "You have sliced: Although that way may not be obvious at first unless you're Dutch.\n",
      "You have sliced: Although that way may not be obvious at first unless you're Dutch.\n",
      "You have sliced: \n",
      "You have sliced: Atog htwymyntb biu tfrtuls o'eDth\n",
      "You have sliced: Ahgttam tebo  r lsorDc\n",
      "You have sliced: .hctuD er'uoy sselnu tsrif ta suoivbo eb ton yam yaw taht hguohtlA\n",
      "You have sliced: .hctuD er'uoy sselnu tsrif ta suoivbo eb ton yam yaw taht hguohtlA\n",
      "You have sliced: .cu ruysen si asovoe o a a athuhl\n",
      "You have sliced: .cu ruysen si asovoe o a a athuhl\n",
      "\n",
      "You have sliced: yaw ta\n",
      "You have sliced: ess you\n"
     ]
    }
   ],
   "source": [
    "# Slicing\n",
    "my_str = \"Although that way may not be obvious at first unless you're Dutch.\"\n",
    "# Write the code to get the output,instructions are mentioned below print statement. use slicing\n",
    "print(\"You have sliced:\", my_str[::])\n",
    "# output:- You have sliced: Although that way may not be obvious at first unless you're Dutch.\n",
    "# Without begin, end and step\n",
    "\n",
    "print(\"You have sliced:\", my_str[0:len(my_str):])\n",
    "# output:- You have sliced: Although that way may not be obvious at first unless you're Dutch.\n",
    "# with begin as 0 end using len and without step\n",
    "\n",
    "print(\"You have sliced:\", my_str[::1])\n",
    "# output:- You have sliced: Although that way may not be obvious at first unless you're Dutch.\n",
    "# without begin and end but using step\n",
    "\n",
    "print(\"You have sliced:\", my_str[0:len(my_str):1])\n",
    "# output:- You have sliced: Although that way may not be obvious at first unless you're Dutch.\n",
    "# With begin, end and step\n",
    "\n",
    "print(\"You have sliced:\", my_str[0:10:-1])\n",
    "# output:- You have sliced:   .with using begin and end using postive values and step as negative values.\n",
    "# Slicing command should print empty string.\n",
    "\n",
    "\n",
    "print(\"You have sliced:\", my_str[::2])\n",
    "# output:- You have sliced: Atog htwymyntb biu tfrtuls o'eDth\n",
    "\n",
    "print(\"You have sliced:\", my_str[::3])\n",
    "# output:- You have sliced: Ahgttam tebo  r lsorDc\n",
    "\n",
    "print(\"You have sliced:\", my_str[::-1])\n",
    "# output:- You have sliced: .hctuD er'uoy sselnu tsrif ta suoivbo eb ton yam yaw taht hguohtlA. Use only step\n",
    "\n",
    "print(\"You have sliced:\", my_str[len(my_str):None:-1])\n",
    "# output:- You have sliced: .hctuD er'uoy sselnu tsrif ta suoivbo eb ton yam yaw taht hguohtlA. Use begin end and step.\n",
    "\n",
    "\n",
    "print(\"You have sliced:\", my_str[::-2])\n",
    "# output:- You have sliced: .cu ruysen si asovoe o a a athuhl. use only step\n",
    "\n",
    "print(\"You have sliced:\", my_str[len(my_str):None:-2])\n",
    "# output:- You have sliced: .cu ruysen si asovoe o a a athuhl. use begin, end and step.\n",
    "\n",
    "\n",
    "print(my_str[10:17:-1])\n",
    "# What will be the output?\n",
    "#Output will be empty as step is moving from RHS to LHS while start and stop index are 10,17\n",
    "# which is moving from LHS to RHS. So there is a conflict.\n",
    "\n",
    "print(\"You have sliced:\", my_str[16:10:-1])\n",
    "# output:- You have sliced: yaw ta, Using begin, end and step.\n",
    "\n",
    "print(\"You have sliced:\", my_str[my_str.index('ess'):56:1])\n",
    "# output:- You have sliced: ess you. Using begin, end and step.\n"
   ]
  },
  {
   "cell_type": "code",
   "execution_count": 9,
   "metadata": {
    "id": "qUSYa5x-3n5j"
   },
   "outputs": [
    {
     "name": "stdout",
     "output_type": "stream",
     "text": [
      "Concatenated string is: LearnbayPython\n",
      "String Repetition : LearnbayLearnbayLearnbay\n"
     ]
    }
   ],
   "source": [
    "#Basic operation on string\n",
    "str1 = 'Learnbay'\n",
    "str2 = 'Python'\n",
    "\n",
    "#Write the code to get the output,instructions are mentioned below.\n",
    "#Output is: Learnbay Python\n",
    "print(\"Concatenated string is:\", str1 + str2)\n",
    "\n",
    "# If a string is concatenated with integer  \n",
    "# for eg: str3 = str1 + 10 , we get the below mentioned error\n",
    "#Error: TypeError: can only concatenate str (not \"int\") to str\n",
    "\n",
    "# If a string is concatenated with float number  \n",
    "# for eg: str3 = str1 + 10.20 , we get the below mentioned error\n",
    "#Error: TypeError: can only concatenate str (not \"float\") to str\n",
    "\n",
    "\n",
    "#Find below Output\n",
    "#Output is: LearnbayLearnbayLearnbay\n",
    "print(\"String Repetition :\", str1 * 3)\n",
    "\n",
    "# If a string is multiplied with float to get a sequence \n",
    "# for eg: print(str1 * 3.5) , we get the below mentioned error\n",
    "#Error: TypeError: can't multiply sequence by non-int of type 'float'\n",
    "\n",
    "# If a string is multiplied with string to get a sequence \n",
    "# for eg: print(str1 * str2) , we get the below mentioned error\n",
    "#Error: TypeError: can't multiply sequence by non-int of type 'str'\n",
    "\n"
   ]
  },
  {
   "cell_type": "code",
   "execution_count": 17,
   "metadata": {
    "id": "gREffmnr3s-p"
   },
   "outputs": [
    {
     "name": "stdout",
     "output_type": "stream",
     "text": [
      "str1 is Python \t\tstr2 is Python \n",
      "str3 is Python$ \tstr4 is Python$\n",
      "\n",
      "Are str1 and str2 same? : True\n",
      "Are str1 and str3 same? : False\n",
      "Are str4 and str3 same? : False\n",
      "\n",
      "Is P available in Python ?: True\n",
      "Is $ available in Python$ ?: True\n",
      "Is N available in Python$ ?: False\n"
     ]
    }
   ],
   "source": [
    "#Find below Output\n",
    "str1 = 'Python'\n",
    "str2 = 'Python'\n",
    "str3 = 'Python$'\n",
    "str4 = 'Python$'\n",
    "\n",
    "print(\"str1 is\", str1, \"\\t\\tstr2 is\", str2, \"\\nstr3 is\", str3, \"\\tstr4 is\", str4)\n",
    "#print True by using identity operator between str1 and str2\n",
    "print(\"\\nAre str1 and str2 same? :\", str1 is str2)\n",
    "\n",
    "#print False by using identity operator between str1 and str3\n",
    "print(\"Are str1 and str3 same? :\", str1 is str3)\n",
    "\n",
    "#print False by using identity operator between str4 and str3\n",
    "print(\"Are str4 and str3 same? :\", str4 is str3)\n",
    "\n",
    "#Check if P is available in str1 and print True by using membership operator\n",
    "check_alphabet = 'P'\n",
    "if str1.find(check_alphabet) != -1:\n",
    "    print(\"\\nIs\", check_alphabet, \"available in\", str1, \"?:\", check_alphabet in str1)\n",
    "else:\n",
    "    print(\"Is\", check_alphabet, \"available in\", str1, \"?:\", check_alphabet in str1)\n",
    "\n",
    "    \n",
    "#Check if $ is available in str3 and print True by using membership operator\n",
    "check_alphabet = '$'\n",
    "if str3.find(check_alphabet) != -1:\n",
    "    print(\"Is\", check_alphabet, \"available in\", str3, \"?:\", check_alphabet in str3)\n",
    "else:\n",
    "    print(\"Is\", check_alphabet, \"available in\", str3, \"?:\", check_alphabet in str3)\n",
    "\n",
    "    \n",
    "#Check if N is available in str3 and print False by using membership operator\n",
    "check_alphabet = 'N'\n",
    "if str3.find(check_alphabet) != -1:\n",
    "    print(\"Is\", check_alphabet, \"available in\", str3, \"?:\", check_alphabet in str3)\n",
    "else:\n",
    "    print(\"Is\", check_alphabet, \"available in\", str3, \"?:\", check_alphabet in str3)\n",
    "\n"
   ]
  },
  {
   "cell_type": "code",
   "execution_count": 18,
   "metadata": {
    "id": "QNFjxDr73u2H"
   },
   "outputs": [
    {
     "name": "stdout",
     "output_type": "stream",
     "text": [
      "Original String is: This is Python class\n",
      "New String is: This is Java class\n"
     ]
    }
   ],
   "source": [
    "\n",
    "str1 = 'This is Python class'\n",
    "\n",
    "#write the code to replace 'Python' with 'Java' and you should get below error.\n",
    "print(\"Original String is:\", str1)\n",
    "print(\"New String is:\", str1.replace('Python', 'Java'))\n",
    "\n",
    "\n",
    "# String is an immutable object, the original string can't be changed while replacing a part of it.\n",
    "# Any attempt to replace the original string for eg:\n",
    "# str1[str1.find('Python'):str1.find('class')] = 'Java'\n",
    "# will raise TypeError: 'str' object does not support item assignment. "
   ]
  },
  {
   "cell_type": "code",
   "execution_count": 21,
   "metadata": {
    "id": "-JgFbPmn3w3D"
   },
   "outputs": [
    {
     "name": "stdout",
     "output_type": "stream",
     "text": [
      " Is A greater than A ? : \t False\n",
      " Is A lesser than A ? : \t False\n",
      " Is A greater than or equal to A ? : True\n",
      " Is A lesser than or equal to A ? :  True\n",
      " Is A equal to A ? :\t True\n",
      " Is A not equal to A ? : False\n"
     ]
    }
   ],
   "source": [
    "str1 = 'A'\n",
    "str2 = 'A'\n",
    "#Compare str1 and str2 and print True using comparison operator\n",
    "#Compare str1 and str2 and print False using comparison operator\n",
    "print(\" Is\", str1, \"greater than\", str2, \"? : \\t\", bool(str1 > str2))\n",
    "print(\" Is\", str1, \"lesser than\", str2, \"? : \\t\", bool(str1 < str2))\n",
    "print(\" Is\", str1, \"greater than or equal to\", str2, \"? :\", bool(str1 >= str2))\n",
    "print(\" Is\", str1, \"lesser than or equal to\", str2, \"? : \", bool(str1 <= str2))\n",
    "\n",
    "#Compare str1 and str2 and print True using equality operator\n",
    "#Compare str1 and str2 and print False using equality operator\n",
    "print(\" Is\", str1, \"equal to\", str2, \"? :\\t\", bool(str1 == str2))\n",
    "print(\" Is\", str1, \"not equal to\", str2, \"? :\", bool(str2 != str1))\n"
   ]
  },
  {
   "cell_type": "code",
   "execution_count": 22,
   "metadata": {
    "id": "fJ46_L-53yhW"
   },
   "outputs": [
    {
     "name": "stdout",
     "output_type": "stream",
     "text": [
      " Is A greater than a ? : \t False\n",
      " Is A lesser than a ? : \t True\n",
      " Is A greater than or equal to a ? : False\n",
      " Is A lesser than or equal to a ? :  True\n",
      " Is A equal to a ? :\t False\n",
      " Is A not equal to a ? : True\n"
     ]
    }
   ],
   "source": [
    "str1 = 'A'\n",
    "str2 = 'a'\n",
    "#Compare str1 and str2 and print True using comparison operator\n",
    "#Compare str1 and str2 and print False using comparison operator\n",
    "print(\" Is\", str1, \"greater than\", str2, \"? : \\t\", bool(str1 > str2))\n",
    "print(\" Is\", str1, \"lesser than\", str2, \"? : \\t\", bool(str1 < str2))\n",
    "print(\" Is\", str1, \"greater than or equal to\", str2, \"? :\", bool(str1 >= str2))\n",
    "print(\" Is\", str1, \"lesser than or equal to\", str2, \"? : \", bool(str1 <= str2))\n",
    "\n",
    "#Compare str1 and str2 and print True using equality operator\n",
    "#Compare str1 and str2 and print False using equality operator\n",
    "print(\" Is\", str1, \"equal to\", str2, \"? :\\t\", bool(str1 == str2))\n",
    "print(\" Is\", str1, \"not equal to\", str2, \"? :\", bool(str2 != str1))\n"
   ]
  },
  {
   "cell_type": "code",
   "execution_count": 28,
   "metadata": {
    "id": "e-Lr9va330gi"
   },
   "outputs": [
    {
     "name": "stdout",
     "output_type": "stream",
     "text": [
      " Is A greater than 65 ? : \t True\n",
      " Is A lesser than 65 ? : \t False\n",
      " Is A greater than or equal to 65 ? : True\n",
      " Is A lesser than or equal to 65 ? :  False\n",
      " Is A equal to 65 ? :\t False\n",
      " Is A not equal to 65 ? : True\n",
      "\n",
      " Is A equal to 65 ? :\t True\n",
      " Is A not equal to 65 ? : False\n"
     ]
    }
   ],
   "source": [
    "str1 = 'A'\n",
    "str2 = '65'\n",
    "\n",
    "print(\" Is\", str1, \"greater than\", str2, \"? : \\t\", bool(str1 > str2))\n",
    "print(\" Is\", str1, \"lesser than\", str2, \"? : \\t\", bool(str1 < str2))\n",
    "print(\" Is\", str1, \"greater than or equal to\", str2, \"? :\", bool(str1 >= str2))\n",
    "print(\" Is\", str1, \"lesser than or equal to\", str2, \"? : \", bool(str1 <= str2))\n",
    "\n",
    "#Compare str1 and str2 and print True using equality operator\n",
    "#Compare str1 and str2 and print False using equality operator\n",
    "print(\" Is\", str1, \"equal to\", str2, \"? :\\t\", bool(str1 == str2))\n",
    "print(\" Is\", str1, \"not equal to\", str2, \"? :\", bool(str2 != str1))\n",
    "\n",
    "\n",
    "str1 = 'A'\n",
    "str2 =  65\n",
    "\n",
    "#Since 65 is declared within quotes in the previous variable, it becomes a string str2='65'. So comparison works.\n",
    "#If str2=65 then comparison operator will not work and it will give the below error\n",
    "#Error: TypeError: '>=' not supported between instances of 'str' and 'int'\n",
    "\n",
    "#Compare str1 and str2 and print True using equality operator\n",
    "#Compare str1 and str2 and print False using equality operator\n",
    "print(\"\\n Is\", str1, \"equal to\", str2, \"? :\\t\", bool(str1 == chr(str2)))\n",
    "print(\" Is\", str1, \"not equal to\", str2, \"? :\", bool(chr(str2) != str1))\n"
   ]
  },
  {
   "cell_type": "code",
   "execution_count": 23,
   "metadata": {
    "id": "JO04jmpN32Im"
   },
   "outputs": [
    {
     "name": "stdout",
     "output_type": "stream",
     "text": [
      " Is Python greater than Python ? : \t False\n",
      " Is Python lesser than Python ? : \t False\n",
      " Is Python greater than or equal to Python ? : True\n",
      " Is Python lesser than or equal to Python ? :  True\n",
      " Is Python equal to Python ? :\t True\n",
      " Is Python not equal to Python ? : False\n"
     ]
    }
   ],
   "source": [
    "str1 = 'Python'\n",
    "str2 = 'Python'\n",
    "#Compare str1 and str2 and print True using comparison operator\n",
    "#Compare str1 and str2 and print False using comparison operator\n",
    "print(\" Is\", str1, \"greater than\", str2, \"? : \\t\", bool(str1 > str2))\n",
    "print(\" Is\", str1, \"lesser than\", str2, \"? : \\t\", bool(str1 < str2))\n",
    "print(\" Is\", str1, \"greater than or equal to\", str2, \"? :\", bool(str1 >= str2))\n",
    "print(\" Is\", str1, \"lesser than or equal to\", str2, \"? : \", bool(str1 <= str2))\n",
    "\n",
    "#Compare str1 and str2 and print True using equality operator\n",
    "#Compare str1 and str2 and print False using equality operator\n",
    "print(\" Is\", str1, \"equal to\", str2, \"? :\\t\", bool(str1 == str2))\n",
    "print(\" Is\", str1, \"not equal to\", str2, \"? :\", bool(str2 != str1))\n"
   ]
  },
  {
   "cell_type": "code",
   "execution_count": 24,
   "metadata": {
    "id": "nmVAYYC_35ip"
   },
   "outputs": [
    {
     "name": "stdout",
     "output_type": "stream",
     "text": [
      " Is Python greater than python ? : \t False\n",
      " Is Python lesser than python ? : \t True\n",
      " Is Python greater than or equal to python ? : False\n",
      " Is Python lesser than or equal to python ? :  True\n",
      " Is Python equal to python ? :\t False\n",
      " Is Python not equal to python ? : True\n"
     ]
    }
   ],
   "source": [
    "str1 = 'Python'\n",
    "str2 = 'python'\n",
    "#Compare str1 and str2 and print True using comparison operator\n",
    "#Compare str1 and str2 and print False using comparison operator\n",
    "print(\" Is\", str1, \"greater than\", str2, \"? : \\t\", bool(str1 > str2))\n",
    "print(\" Is\", str1, \"lesser than\", str2, \"? : \\t\", bool(str1 < str2))\n",
    "print(\" Is\", str1, \"greater than or equal to\", str2, \"? :\", bool(str1 >= str2))\n",
    "print(\" Is\", str1, \"lesser than or equal to\", str2, \"? : \", bool(str1 <= str2))\n",
    "\n",
    "#Compare str1 and str2 and print True using equality operator\n",
    "#Compare str1 and str2 and print False using equality operator\n",
    "print(\" Is\", str1, \"equal to\", str2, \"? :\\t\", bool(str1 == str2))\n",
    "print(\" Is\", str1, \"not equal to\", str2, \"? :\", bool(str2 != str1))\n",
    "\n",
    "\n",
    "\n"
   ]
  },
  {
   "cell_type": "code",
   "execution_count": 30,
   "metadata": {
    "id": "7ulv5ith37OJ"
   },
   "outputs": [
    {
     "name": "stdout",
     "output_type": "stream",
     "text": [
      "\t---And operator---\n",
      "\t Python  and Python  | Python\n",
      "\t Python  and   | \n",
      "\t   and Python  | \n",
      "\t   and   | \n",
      "\n",
      "\t---Or operator---\n",
      "\t Python  or Python   | Python\n",
      "\t Python  or    | Python\n",
      "\t   or Python   | Python\n",
      "\t   or    | \n",
      "\n",
      "\t---Not operator---\n",
      "\tNot  Python  | False\n",
      "\tNot    | True\n"
     ]
    }
   ],
   "source": [
    "a = 'Python'\n",
    "b = ''\n",
    "\n",
    "#Apply logical opereators (and, or & not) on above string values and observe the output.\n",
    "print(\"\\t---And operator---\")\n",
    "print(\"\\t\", a, \" and\", a, \" |\", a and a)\n",
    "print(\"\\t\", a, \" and\", b, \" |\", a and b)\n",
    "print(\"\\t\", b, \" and\", a, \" |\", b and a)\n",
    "print(\"\\t\", b, \" and\", b, \" |\", b and b)\n",
    "\n",
    "print(\"\\n\\t---Or operator---\")\n",
    "print(\"\\t\", a, \" or\", a, \"  |\", a or a)\n",
    "print(\"\\t\", a, \" or\", b, \"  |\", a or b)\n",
    "print(\"\\t\", b, \" or\", a, \"  |\", b or a)\n",
    "print(\"\\t\", b, \" or\", b, \"  |\", b or b)\n",
    "\n",
    "print(\"\\n\\t---Not operator---\")\n",
    "print(\"\\tNot \", a, \" |\", not a)\n",
    "print(\"\\tNot \", b, \" |\", not b)\n"
   ]
  },
  {
   "cell_type": "code",
   "execution_count": 31,
   "metadata": {
    "id": "Yg_gsZBL383n"
   },
   "outputs": [
    {
     "name": "stdout",
     "output_type": "stream",
     "text": [
      "\t---And operator---\n",
      "\t   and   | \n",
      "\t   and   | \n",
      "\t   and   | \n",
      "\t   and   | \n",
      "\n",
      "\t---Or operator---\n",
      "\t   or    | \n",
      "\t   or    | \n",
      "\t   or    | \n",
      "\t   or    | \n",
      "\n",
      "\t---Not operator---\n",
      "\tNot    | True\n",
      "\tNot    | True\n"
     ]
    }
   ],
   "source": [
    "a = ''\n",
    "b = ''\n",
    "\n",
    "#Apply logical opereators (and, or & not) on above string values and observe the output.\n",
    "print(\"\\t---And operator---\")\n",
    "print(\"\\t\", a, \" and\", a, \" |\", a and a)\n",
    "print(\"\\t\", a, \" and\", b, \" |\", a and b)\n",
    "print(\"\\t\", b, \" and\", a, \" |\", b and a)\n",
    "print(\"\\t\", b, \" and\", b, \" |\", b and b)\n",
    "\n",
    "print(\"\\n\\t---Or operator---\")\n",
    "print(\"\\t\", a, \" or\", a, \"  |\", a or a)\n",
    "print(\"\\t\", a, \" or\", b, \"  |\", a or b)\n",
    "print(\"\\t\", b, \" or\", a, \"  |\", b or a)\n",
    "print(\"\\t\", b, \" or\", b, \"  |\", b or b)\n",
    "\n",
    "print(\"\\n\\t---Not operator---\")\n",
    "print(\"\\tNot \", a, \" |\", not a)\n",
    "print(\"\\tNot \", b, \" |\", not b)"
   ]
  },
  {
   "cell_type": "code",
   "execution_count": 32,
   "metadata": {
    "id": "cIWkP9Hf3-q5"
   },
   "outputs": [
    {
     "name": "stdout",
     "output_type": "stream",
     "text": [
      "\t---And operator---\n",
      "\t Python  and Python  | Python\n",
      "\t Python  and learnbay  | learnbay\n",
      "\t learnbay  and Python  | Python\n",
      "\t learnbay  and learnbay  | learnbay\n",
      "\n",
      "\t---Or operator---\n",
      "\t Python  or Python   | Python\n",
      "\t Python  or learnbay   | Python\n",
      "\t learnbay  or Python   | learnbay\n",
      "\t learnbay  or learnbay   | learnbay\n",
      "\n",
      "\t---Not operator---\n",
      "\tNot  Python  | False\n",
      "\tNot  learnbay  | False\n"
     ]
    }
   ],
   "source": [
    "a = 'Python'\n",
    "b = 'learnbay'\n",
    "\n",
    "#Apply logical opereators (and, or & not) on above string values and observe the output.\n",
    "print(\"\\t---And operator---\")\n",
    "print(\"\\t\", a, \" and\", a, \" |\", a and a)\n",
    "print(\"\\t\", a, \" and\", b, \" |\", a and b)\n",
    "print(\"\\t\", b, \" and\", a, \" |\", b and a)\n",
    "print(\"\\t\", b, \" and\", b, \" |\", b and b)\n",
    "\n",
    "print(\"\\n\\t---Or operator---\")\n",
    "print(\"\\t\", a, \" or\", a, \"  |\", a or a)\n",
    "print(\"\\t\", a, \" or\", b, \"  |\", a or b)\n",
    "print(\"\\t\", b, \" or\", a, \"  |\", b or a)\n",
    "print(\"\\t\", b, \" or\", b, \"  |\", b or b)\n",
    "\n",
    "print(\"\\n\\t---Not operator---\")\n",
    "print(\"\\tNot \", a, \" |\", not a)\n",
    "print(\"\\tNot \", b, \" |\", not b)"
   ]
  },
  {
   "cell_type": "code",
   "execution_count": 4,
   "metadata": {
    "ExecuteTime": {
     "end_time": "2021-05-28T16:55:22.648625Z",
     "start_time": "2021-05-28T16:55:22.608506Z"
    },
    "id": "Y0Ot_E704AX5"
   },
   "outputs": [
    {
     "name": "stdout",
     "output_type": "stream",
     "text": [
      "Count of 't' in  Although 8 that way may not be obvious at first unless you're Dutch is: 7\n",
      "Substring '8' is found in the index  9  in the string\n",
      "The index of '8' in the string is 9\n",
      "-1\n",
      "11\n",
      "63\n",
      "63\n"
     ]
    }
   ],
   "source": [
    "my_str = \"Although 8 that way may not be obvious at first unless you're Dutch\"\n",
    "\n",
    "# Write the code to get the total count of 't' in above string. Use find() and index() method.\n",
    "lst = my_str.split()\n",
    "i, count = 0, 0\n",
    "for i in range(len(lst)):\n",
    "    if lst[i].find('t') != -1:\n",
    "        count += 1\n",
    "        if lst[i].rindex('t') != lst[i].index('t'):\n",
    "            count += 1\n",
    "print(\"Count of 't' in \", my_str, \"is:\", count)\n",
    "\n",
    "# Write the code to get the index of '8' in my_str. Use find() and index() method.\n",
    "print(\"Substring '8' is found in the index \",my_str.find('8'),\" in the string\")\n",
    "print(\"The index of '8' in the string is\",my_str.index('8'))\n",
    "\n",
    "# What will be the output of below code?\n",
    "print(my_str.find('the')) \n",
    "#Since the substring 'the' is not found in the string, find() function returns -1\n",
    "\n",
    "# print(my_str.index('the'))\n",
    "#Since the substring 'the' is not found in the string, index() function raises ValueError\n",
    "\n",
    "print(my_str.find('t', 9, 15))\n",
    "#Since find() returns the first occurence of the given substring between position 9 to 15, the value that is returned is 11.\n",
    "#Because first occurence of 't' between position 9 and 15 is 11 \n",
    "\n",
    "print(my_str.rfind('u'))\n",
    "#rfind() method find the first occurence of 'u' from RHS in the string. So the result is 63.\n",
    "\n",
    "print(my_str.rindex('u'))\n",
    "#rindex() method find the first occurence of 'u' from RHS in the string. So the result is 63.\n"
   ]
  },
  {
   "cell_type": "code",
   "execution_count": 6,
   "metadata": {
    "ExecuteTime": {
     "end_time": "2021-05-28T17:25:18.050660Z",
     "start_time": "2021-05-28T17:25:01.174078Z"
    },
    "id": "Gommq59Q4CMi"
   },
   "outputs": [
    {
     "name": "stdout",
     "output_type": "stream",
     "text": [
      "Enter a string   See you in the market   \n",
      "See you in the market\n",
      "Both Spaces striped off\n"
     ]
    }
   ],
   "source": [
    "#W A P which applies strip() method if any string, which will be taken from user, starts and ends with space, or applies \n",
    "#rrstrip() method if that string only ends with space or applies lstrip() method if that string only starts with a space.\n",
    "\n",
    "#For example:-\n",
    "#input:- '    Python   '\n",
    "#output:- 'Python'\n",
    "\n",
    "#input:- '    Python'\n",
    "#output:- 'Python'\n",
    "\n",
    "#input:- 'Python   '\n",
    "#output:- 'Python'\n",
    "\n",
    "my_str=input(\"Enter a string\")\n",
    "if my_str.startswith(' ') and my_str.endswith(' '):\n",
    "    print(my_str.strip())\n",
    "    print(\"Both Spaces striped off\")\n",
    "elif my_str.startswith(' '):\n",
    "    print(my_str.lstrip())\n",
    "    print(\"Left Spaces striped off\")\n",
    "elif my_str.endswith(' '):\n",
    "    print(my_str.rstrip())\n",
    "    print(\"Right Spaces striped off\")\n",
    "else:\n",
    "    print(my_str)\n",
    "    print(\"No spaces to strip off\")"
   ]
  },
  {
   "cell_type": "code",
   "execution_count": 5,
   "metadata": {
    "ExecuteTime": {
     "end_time": "2021-05-28T16:59:51.742811Z",
     "start_time": "2021-05-28T16:59:51.713162Z"
    },
    "id": "9IUy-cpS4Dtt"
   },
   "outputs": [
    {
     "name": "stdout",
     "output_type": "stream",
     "text": [
      "ALTHOUGH 8 THAT WAY MAY NOT BE OBVIOUS AT FIRST UNLESS YOU'RE DUTCH\n",
      "although 8 that way may not be obvious at first unless you're dutch\n",
      "aLTHOUGH 8 THAT WAY MAY NOT BE OBVIOUS AT FIRST UNLESS YOU'RE dUTCH\n"
     ]
    }
   ],
   "source": [
    "my_str = \"Although 8 that way may not be obvious at first unless you're Dutch\"\n",
    "\n",
    "#Write the code to convert all alphabets in my_str into upper case.\n",
    "print(my_str.upper())\n",
    "\n",
    "#Write the code to convert all alphabets in my_str into lower case.\n",
    "print(my_str.lower())\n",
    "\n",
    "#Write the code to swap the cases of all alphabets in my_str.(lower to upper and upper to lower)\n",
    "print(my_str.swapcase())\n",
    "\n"
   ]
  },
  {
   "cell_type": "code",
   "execution_count": 7,
   "metadata": {
    "ExecuteTime": {
     "end_time": "2021-05-28T17:39:35.653641Z",
     "start_time": "2021-05-28T17:39:23.552160Z"
    },
    "id": "-BjS-z674HKW"
   },
   "outputs": [
    {
     "name": "stdout",
     "output_type": "stream",
     "text": [
      "Enter a stringPython is good\n",
      "Python Is Good\n"
     ]
    }
   ],
   "source": [
    "#Write the code which takes one string from user and if it starts with small case letter then convert it to corresponding \n",
    "#capital letter otherwise if starts with capital letters then convert first character of every word in that string into capital.\n",
    "\n",
    "my_str=input(\"Enter a string\")\n",
    "while True:\n",
    "    if my_str[0].islower():\n",
    "        print(my_str.capitalize())\n",
    "        break\n",
    "    elif my_str[0].isupper():\n",
    "        print(my_str.title())\n",
    "        break\n",
    "    else:\n",
    "        print(\"Enter a string which starts with alphabet\")\n",
    "        my_str = input(\"Enter a string\")"
   ]
  },
  {
   "cell_type": "code",
   "execution_count": null,
   "metadata": {
    "id": "-MCuDy5J4JQS"
   },
   "outputs": [],
   "source": [
    "#Take a string from user and check if it is:-\n",
    "#     1. alphanumeric\n",
    "#     2. alphabets\n",
    "#     3. digit\n",
    "#     4. all letters are in lower case\n",
    "#     5. all letters are in upper case\n",
    "#     6. in title case\n",
    "#     7. a space character\n",
    "#     8. numeric\n",
    "#     9. all number elements in string are decimal\n",
    "\n",
    "my_str=input(\"Enter a string\")\n",
    "\n",
    "print(\"Are all the values in string - alphanumeric? :\",my_str.isalnum())\n",
    "print(\"Are all the values in string - alphabet? :\",my_str.isalpha())\n",
    "print(\"Are all the values in string - digits? :\",my_str.isdigit())\n",
    "print(\"Are all letters in lower case? :\",my_str.islower())\n",
    "print(\"Are all letters in upper case? :\",my_str.isupper())\n",
    "print(\"Is string in title case? :\",my_str.istitle())\n",
    "print(\"Is string a space character? :\",my_str.isspace())\n",
    "print(\"Are all the values in string - numeric? :\",my_str.isnumeric())\n",
    "print(\"Are all number elements in string decimal? :\",my_str.isdecimal())"
   ]
  },
  {
   "cell_type": "code",
   "execution_count": 8,
   "metadata": {
    "ExecuteTime": {
     "end_time": "2021-05-28T17:44:21.588266Z",
     "start_time": "2021-05-28T17:44:14.556445Z"
    },
    "id": "tiTN-4ik4KAG"
   },
   "outputs": [
    {
     "name": "stdout",
     "output_type": "stream",
     "text": [
      "Enter a stringabc%\n",
      "Is abc% a valid identifier? : False\n"
     ]
    }
   ],
   "source": [
    "#W A P which takes a string as an input and prints True if the string is valid identifier else returns False.\n",
    "#Sample Input:- 'abc', 'abc1', 'ab1c', '1abc', 'abc$', '_abc', 'if'\n",
    "\n",
    "my_str=input(\"Enter a string\")\n",
    "print(\"Is\",my_str,\"a valid identifier? :\",my_str.isidentifier())\n"
   ]
  },
  {
   "cell_type": "code",
   "execution_count": null,
   "metadata": {
    "id": "tAMkSIN84MPe"
   },
   "outputs": [],
   "source": [
    "#What will be output of below code?\n",
    "s = chr(65) + chr(97)\n",
    "print(s.isprintable())\n",
    "# Output is true as both the characters A and a are printable\n",
    "\n",
    "s = chr(27) + chr(97)\n",
    "print(s.isprintable())\n",
    "# Output is false as chr(27) - Escape character is not printable\n",
    "\n",
    "s = '\\n'\n",
    "print(s.isprintable())\n",
    "# Output is false as \\n is not printable but executable\n",
    "\n",
    "s = ''\n",
    "print(s.isprintable())\n",
    "# Output is true as space is printable"
   ]
  },
  {
   "cell_type": "code",
   "execution_count": null,
   "metadata": {
    "id": "pU9Os0mD4Pk1"
   },
   "outputs": [],
   "source": [
    "#What will be output of below code?\n",
    "my_string = '  '\n",
    "print(my_string.isascii()) \n",
    "# Output is True \n",
    "\n",
    "my_string = 'Studytonight'\n",
    "print(my_string.isascii())\n",
    "# Output is True\n",
    "\n",
    "my_string = 'Study tonight'\n",
    "print(my_string.isascii())\n",
    "# Output is True\n",
    "\n",
    "my_string = 'Studytonight@123'\n",
    "print(my_string.isascii())\n",
    "# Output is True\n",
    "\n",
    "my_string = '°'\n",
    "print(my_string.isascii())\n",
    "# Output is False as it is an Non ascii char\n",
    "\n",
    "my_string = 'ö'\n",
    "print(my_string.isascii())\n",
    "# Output is False as it is an Non ascii char"
   ]
  },
  {
   "cell_type": "code",
   "execution_count": 1,
   "metadata": {
    "ExecuteTime": {
     "end_time": "2021-05-29T10:20:11.207797Z",
     "start_time": "2021-05-29T10:20:09.560789Z"
    },
    "id": "VsLV8FF74QTB"
   },
   "outputs": [
    {
     "name": "stdout",
     "output_type": "stream",
     "text": [
      "The strings are equal.\n"
     ]
    }
   ],
   "source": [
    "#What will be the output of below code?\n",
    "firstString = \"der Fluß\"\n",
    "secondString = \"der Fluss\"\n",
    "\n",
    "if firstString.casefold() == secondString.casefold():\n",
    "    print('The strings are equal.')\n",
    "else:\n",
    "    print('The strings are not equal.')\n",
    "    \n",
    "# Output is 'The strings are equal.' Casefold aggresively changes all the characters into lower so both the output is equal."
   ]
  },
  {
   "cell_type": "code",
   "execution_count": null,
   "metadata": {
    "id": "1m0U7jLa4Wjf"
   },
   "outputs": [],
   "source": [
    "#Write the code to get below output\n",
    "#O/P 1:- python** (using ljust method)\n",
    "my_str = input(\"Enter a string\")\n",
    "print(my_str.ljust(len(my_str) + 2, '*'))\n",
    "\n",
    "#Write the code to get below output\n",
    "#O/P 1:- **python (using rjust method)\n",
    "print(my_str.rjust(len(my_str) + 2, '*'))\n",
    "\n",
    "#Write the code to get below output\n",
    "#O/P 1:- **python** (using rjust method)\n",
    "temp = my_str.ljust(len(my_str) + 2, '*')\n",
    "print(temp.rjust(len(temp) + 2, '*'))\n",
    "\n",
    "\n"
   ]
  },
  {
   "cell_type": "code",
   "execution_count": null,
   "metadata": {
    "id": "cRVkvW6s4YKK"
   },
   "outputs": [],
   "source": [
    "#Write a Python program to find the length of the my_str:-\n",
    "\n",
    "#Input:- 'Write a Python program to find the length of the my_str'\n",
    "#Output:- 55\n",
    "\n",
    "#Method 1\n",
    "ip_str='Write a Python program to find the length of the my_str'\n",
    "print(\"Length of the string is:\",len(ip_str))\n",
    "\n",
    "#Method 2\n",
    "count = 0\n",
    "for i in ip_str:\n",
    "    count += 1\n",
    "    \n",
    "print(\"Length of the string is:\",count)"
   ]
  },
  {
   "cell_type": "code",
   "execution_count": 2,
   "metadata": {
    "ExecuteTime": {
     "end_time": "2021-05-29T10:50:00.600137Z",
     "start_time": "2021-05-29T10:50:00.101485Z"
    },
    "id": "SjABWI284Zuz"
   },
   "outputs": [
    {
     "name": "stdout",
     "output_type": "stream",
     "text": [
      "Count of 'p' in peter piper picked a peck of pickled peppers. is : 9\n"
     ]
    }
   ],
   "source": [
    "#Write a Python program to find the total number of times letter 'p' is appeared in the below string:-\n",
    "    \n",
    "#Input:- 'peter piper picked a peck of pickled peppers.'\n",
    "#Output:- 9\n",
    "\n",
    "my_str = \"peter piper picked a peck of pickled peppers.\"\n",
    "j, count_char = 0, 0\n",
    "\n",
    "for i in my_str:\n",
    "    if my_str[j] == 'p':\n",
    "        count_char += 1\n",
    "    j += 1\n",
    "\n",
    "print(\"Count of 'p' in\", my_str, \"is :\", count_char)"
   ]
  },
  {
   "cell_type": "code",
   "execution_count": 5,
   "metadata": {
    "ExecuteTime": {
     "end_time": "2021-05-29T10:52:57.107210Z",
     "start_time": "2021-05-29T10:52:57.085209Z"
    },
    "id": "-iZtqbEo4bQp"
   },
   "outputs": [
    {
     "name": "stdout",
     "output_type": "stream",
     "text": [
      "Letter 'p' appeared in following indices:\n",
      "0\n",
      "6\n",
      "8\n",
      "12\n",
      "21\n",
      "29\n",
      "37\n",
      "39\n",
      "40\n"
     ]
    }
   ],
   "source": [
    "#Write a Python Program, to print all the indexes of all occurences of letter 'p' appeared in the string:-\n",
    "    \n",
    "#Input:- 'peter piper picked a peck of pickled peppers.'\n",
    "#Output:- \n",
    "# 0\n",
    "# 6\n",
    "# 8\n",
    "# 12\n",
    "# 21\n",
    "# 29\n",
    "# 37\n",
    "# 39\n",
    "# 40\n",
    "\n",
    "my_str = \"peter piper picked a peck of pickled peppers.\"\n",
    "j = 0\n",
    "print(\"Letter 'p' appeared in following indices:\")\n",
    "\n",
    "for i in my_str:\n",
    "    if my_str[j] == 'p':\n",
    "        print(j)\n",
    "    j += 1\n"
   ]
  },
  {
   "cell_type": "code",
   "execution_count": 9,
   "metadata": {
    "ExecuteTime": {
     "end_time": "2021-05-29T10:57:14.732220Z",
     "start_time": "2021-05-29T10:57:14.718217Z"
    },
    "id": "_A8Eu8f84daM"
   },
   "outputs": [
    {
     "name": "stdout",
     "output_type": "stream",
     "text": [
      "Input is : peter piper picked a peck of pickled peppers.\n",
      "Output is: ['peter', 'piper', 'picked', 'a', 'peck', 'of', 'pickled', 'peppers.']\n"
     ]
    }
   ],
   "source": [
    "#Write a python program to find below output:-\n",
    "\n",
    "#Input:- 'peter piper picked a peck of pickled peppers.'\n",
    "#Output:- ['peter', 'piper', 'picked', 'a', 'peck', 'of', 'pickled', 'peppers.']\n",
    "\n",
    "my_str=\"peter piper picked a peck of pickled peppers.\"\n",
    "print(\"Input is :\",my_str)\n",
    "print(\"Output is:\",my_str.split())"
   ]
  },
  {
   "cell_type": "code",
   "execution_count": 19,
   "metadata": {
    "ExecuteTime": {
     "end_time": "2021-05-29T16:07:13.641891Z",
     "start_time": "2021-05-29T16:07:13.303860Z"
    },
    "id": "juh7tQuL4fNc"
   },
   "outputs": [
    {
     "name": "stdout",
     "output_type": "stream",
     "text": [
      "Input is : peter piper picked a peck of pickled peppers.\n",
      "peppers. pickled of peck a picked piper peter\n"
     ]
    }
   ],
   "source": [
    "#Write a python program to find below output:-\n",
    "\n",
    "#Input:- 'peter piper picked a peck of pickled peppers.'\n",
    "#Output:- 'peppers. pickled of peck a picked piper peter'\n",
    "\n",
    "my_str = 'peter piper picked a peck of pickled peppers.'\n",
    "print(\"Input is :\",my_str)\n",
    "lst = my_str.split()[::-1]\n",
    "print(' '.join(lst))\n"
   ]
  },
  {
   "cell_type": "code",
   "execution_count": 20,
   "metadata": {
    "ExecuteTime": {
     "end_time": "2021-05-29T16:07:24.622614Z",
     "start_time": "2021-05-29T16:07:24.462546Z"
    },
    "id": "aaHQYz194fW7"
   },
   "outputs": [
    {
     "name": "stdout",
     "output_type": "stream",
     "text": [
      "Input is : peter piper picked a peck of pickled peppers.\n",
      ".sreppep delkcip fo kcep a dekcip repip retep\n"
     ]
    }
   ],
   "source": [
    "#Write a python program to find below output:-\n",
    "\n",
    "#Input:- 'peter piper picked a peck of pickled peppers.'\n",
    "#Output:- '.sreppep delkcip fo kcep a dekcip repip retep'\n",
    "\n",
    "my_str = 'peter piper picked a peck of pickled peppers.'\n",
    "print(\"Input is :\",my_str)\n",
    "lst = my_str.split()\n",
    "print(' '.join(lst)[::-1])\n"
   ]
  },
  {
   "cell_type": "code",
   "execution_count": 23,
   "metadata": {
    "ExecuteTime": {
     "end_time": "2021-05-29T16:18:54.542812Z",
     "start_time": "2021-05-29T16:18:54.312796Z"
    },
    "id": "LSgj9glC4feI"
   },
   "outputs": [
    {
     "name": "stdout",
     "output_type": "stream",
     "text": [
      "Input is : peter piper picked a peck of pickled peppers.\n",
      "Output is: retep repip dekcip a kcep fo delkcip .sreppep \n"
     ]
    }
   ],
   "source": [
    "#Write a python program to find below output:-\n",
    "\n",
    "#Input:- 'peter piper picked a peck of pickled peppers.'\n",
    "#Output:- 'retep repip dekcip a kcep fo delkcip .sreppep'\n",
    "\n",
    "my_str = 'peter piper picked a peck of pickled peppers.'\n",
    "print(\"Input is :\", my_str)\n",
    "lst = my_str.split()\n",
    "new_str = \"\"\n",
    "\n",
    "for ele in lst:\n",
    "    new_str += ''.join(ele[::-1])\n",
    "    new_str +=\" \"\n",
    "\n",
    "print(\"Output is:\", new_str)"
   ]
  },
  {
   "cell_type": "code",
   "execution_count": 10,
   "metadata": {
    "ExecuteTime": {
     "end_time": "2021-05-29T10:57:40.078175Z",
     "start_time": "2021-05-29T10:57:40.061175Z"
    },
    "id": "WUxPAkY94foo"
   },
   "outputs": [
    {
     "name": "stdout",
     "output_type": "stream",
     "text": [
      "Input is : peter piper picked a peck of pickled peppers.\n",
      "Output is: Peter Piper Picked A Peck Of Pickled Peppers.\n"
     ]
    }
   ],
   "source": [
    "#Write a python program to find below output:-\n",
    "\n",
    "#Input:- 'peter piper picked a peck of pickled peppers.'\n",
    "#Output:- 'Peter Piper Picked A Peck Of Pickled Peppers.'\n",
    "\n",
    "my_str=\"peter piper picked a peck of pickled peppers.\"\n",
    "print(\"Input is :\",my_str)\n",
    "print(\"Output is:\",my_str.title())"
   ]
  },
  {
   "cell_type": "code",
   "execution_count": 11,
   "metadata": {
    "ExecuteTime": {
     "end_time": "2021-05-29T10:57:56.774431Z",
     "start_time": "2021-05-29T10:57:56.756429Z"
    },
    "id": "IT1NSPxA4mww"
   },
   "outputs": [
    {
     "name": "stdout",
     "output_type": "stream",
     "text": [
      "Input is : Peter Piper Picked A Peck Of Pickled Peppers.\n",
      "Output is: Peter piper picked a peck of pickled peppers.\n"
     ]
    }
   ],
   "source": [
    "#Write a python program to find below output:-\n",
    "\n",
    "#Input:- 'Peter Piper Picked A Peck Of Pickled Peppers.'\n",
    "#Output:- 'Peter piper picked a peck of pickled peppers.'\n",
    "\n",
    "my_str=\"Peter Piper Picked A Peck Of Pickled Peppers.\"\n",
    "print(\"Input is :\",my_str)\n",
    "print(\"Output is:\",my_str.capitalize())"
   ]
  },
  {
   "cell_type": "code",
   "execution_count": 15,
   "metadata": {
    "ExecuteTime": {
     "end_time": "2021-05-29T11:01:42.112572Z",
     "start_time": "2021-05-29T11:01:42.085571Z"
    },
    "id": "3Gg65vSc4m3C"
   },
   "outputs": [
    {
     "name": "stdout",
     "output_type": "stream",
     "text": [
      "Main string is : Peter Piper Picked A Peck Of Pickled Peppers.\n",
      "The index of substring ' Pickl ' in main string is 29\n"
     ]
    }
   ],
   "source": [
    "#Write a python program to implement index method. If sub_str is found in my_str then it will print the index\n",
    "# of first occurrence of first character of matching string in my_str:-\n",
    "\n",
    "#Input:- my_str = 'Peter Piper Picked A Peck Of Pickled Peppers.', sub_str = 'Pickl'\n",
    "#Output:- 29\n",
    "\n",
    "my_str = 'Peter Piper Picked A Peck Of Pickled Peppers.'\n",
    "sub_str = 'Pickl'\n",
    "print(\"Main string is :\",my_str)\n",
    "print(\"The index of substring '\",sub_str,\"' in main string is\", my_str.index(sub_str))"
   ]
  },
  {
   "cell_type": "code",
   "execution_count": 17,
   "metadata": {
    "ExecuteTime": {
     "end_time": "2021-05-29T11:04:31.608344Z",
     "start_time": "2021-05-29T11:04:31.597341Z"
    },
    "id": "iFRhp_JI4m6k"
   },
   "outputs": [
    {
     "name": "stdout",
     "output_type": "stream",
     "text": [
      "Input is :\t\t Peter Piper Picked A Peck Of Pickled Peppers.\n",
      "Output after replacement is: Peter Piper Picked A Pack Of Pickled Peppers.\n"
     ]
    }
   ],
   "source": [
    "#Write a python program to implement replace method. If sub_str is found in my_str then it will replace the first \n",
    "#occurrence of sub_str with new_str else it will will print sub_str not found:-\n",
    "\n",
    "#Input:- my_str = 'Peter Piper Picked A Peck Of Pickled Peppers.', sub_str = 'Peck', new_str = 'Pack'\n",
    "#Output:- 'Peter Piper Picked A Pack Of Pickled Peppers.'\n",
    "\n",
    "my_str = 'Peter Piper Picked A Peck Of Pickled Peppers.'\n",
    "sub_str = 'Peck'\n",
    "new_str = 'Pack'\n",
    "\n",
    "print(\"Input is :\\t\\t\",my_str)\n",
    "print(\"Output after replacement is:\",my_str.replace(sub_str,new_str))\n"
   ]
  },
  {
   "cell_type": "code",
   "execution_count": 18,
   "metadata": {
    "ExecuteTime": {
     "end_time": "2021-05-29T15:47:58.978119Z",
     "start_time": "2021-05-29T15:47:58.433765Z"
    },
    "id": "dQ9YhBBc4m9V"
   },
   "outputs": [
    {
     "name": "stdout",
     "output_type": "stream",
     "text": [
      "Input  is Peter Piper Picked A Peck Of Pickled Peppers.\n",
      "Output is *********************Peck********************\n"
     ]
    }
   ],
   "source": [
    "#Write a python program to find below output (implements rjust and ljust):-\n",
    "\n",
    "#Input:- 'Peter Piper Picked A Peck Of Pickled Peppers.', sub_str = 'Peck', \n",
    "#Output:- '*********************Peck********************'\n",
    "\n",
    "my_str = 'Peter Piper Picked A Peck Of Pickled Peppers.'\n",
    "sub_str = 'Peck'\n",
    "\n",
    "print(\"Input  is\",my_str)\n",
    "temp = sub_str.rjust(my_str.index(sub_str)+len(sub_str), '*')\n",
    "print(\"Output is\",temp.ljust(len(my_str), '*'))\n",
    "\n"
   ]
  },
  {
   "cell_type": "code",
   "execution_count": null,
   "metadata": {
    "id": "w37BRLdt4tYT"
   },
   "outputs": [],
   "source": [
    "\n"
   ]
  },
  {
   "cell_type": "code",
   "execution_count": null,
   "metadata": {
    "id": "W64gCpeu4vaF"
   },
   "outputs": [],
   "source": []
  }
 ],
 "metadata": {
  "colab": {
   "collapsed_sections": [],
   "name": "String_Assignment.ipynb",
   "provenance": []
  },
  "kernelspec": {
   "display_name": "Python 3",
   "language": "python",
   "name": "python3"
  },
  "language_info": {
   "codemirror_mode": {
    "name": "ipython",
    "version": 3
   },
   "file_extension": ".py",
   "mimetype": "text/x-python",
   "name": "python",
   "nbconvert_exporter": "python",
   "pygments_lexer": "ipython3",
   "version": "3.8.5"
  },
  "latex_envs": {
   "LaTeX_envs_menu_present": true,
   "autoclose": false,
   "autocomplete": true,
   "bibliofile": "biblio.bib",
   "cite_by": "apalike",
   "current_citInitial": 1,
   "eqLabelWithNumbers": true,
   "eqNumInitial": 1,
   "hotkeys": {
    "equation": "Ctrl-E",
    "itemize": "Ctrl-I"
   },
   "labels_anchors": false,
   "latex_user_defs": false,
   "report_style_numbering": false,
   "user_envs_cfg": false
  },
  "varInspector": {
   "cols": {
    "lenName": 16,
    "lenType": 16,
    "lenVar": 40
   },
   "kernels_config": {
    "python": {
     "delete_cmd_postfix": "",
     "delete_cmd_prefix": "del ",
     "library": "var_list.py",
     "varRefreshCmd": "print(var_dic_list())"
    },
    "r": {
     "delete_cmd_postfix": ") ",
     "delete_cmd_prefix": "rm(",
     "library": "var_list.r",
     "varRefreshCmd": "cat(var_dic_list()) "
    }
   },
   "types_to_exclude": [
    "module",
    "function",
    "builtin_function_or_method",
    "instance",
    "_Feature"
   ],
   "window_display": false
  }
 },
 "nbformat": 4,
 "nbformat_minor": 1
}
